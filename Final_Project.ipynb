{
 "cells": [
  {
   "cell_type": "code",
   "execution_count": 1,
   "metadata": {},
   "outputs": [
    {
     "data": {
      "text/html": [
       "<script>jQuery(function() {if (jQuery(\"body.notebook_app\").length == 0) { jQuery(\".input_area\").toggle(); jQuery(\".prompt\").toggle();}});</script>"
      ]
     },
     "metadata": {},
     "output_type": "display_data"
    }
   ],
   "source": [
    "from IPython.display import display\n",
    "from IPython.display import HTML\n",
    "import IPython.core.display as di # Example: di.display_html('<h3>%s:</h3>' % str, raw=True)\n",
    "di.display_html('<script>jQuery(function() {if (jQuery(\"body.notebook_app\").length == 0) { jQuery(\".input_area\").toggle(); jQuery(\".prompt\").toggle();}});</script>', raw=True)"
   ]
  },
  {
   "cell_type": "code",
   "execution_count": 1,
   "metadata": {},
   "outputs": [],
   "source": [
    "import numpy as np\n",
    "import pandas as pd\n",
    "from sklearn import tree\n",
    "from sklearn.ensemble import RandomForestClassifier\n",
    "from sklearn.neighbors import KNeighborsClassifier\n",
    "#import tensorFlow as tf\n",
    "from sklearn.model_selection import train_test_split\n",
    "from sklearn.model_selection import cross_val_score\n",
    "from sklearn.metrics import confusion_matrix\n",
    "#from scipy.stats import norm\n",
    "from sklearn import preprocessing , linear_model\n",
    "from sklearn.linear_model import LinearRegression\n",
    "from sklearn.svm import SVC\n",
    "from random import random\n",
    "import matplotlib.pyplot as plt\n",
    "from sklearn.metrics import classification_report\n",
    "import pylab as pl\n",
    "%matplotlib inline"
   ]
  },
  {
   "cell_type": "code",
   "execution_count": 2,
   "metadata": {},
   "outputs": [],
   "source": [
    "names=[str(i) for i in range(1,66)]"
   ]
  },
  {
   "cell_type": "code",
   "execution_count": 3,
   "metadata": {},
   "outputs": [],
   "source": [
    "df_Train = pd.read_csv(\"C:/Users/Andrea1/Desktop/project3/environment3/optdigits_tra.csv\", names=names, index_col=False)\n",
    "\n",
    "df_Test = pd.read_csv(\"C:/Users/Andrea1/Desktop/project3/environment3/optdigits_tes.csv\", names=names,index_col=False)\n"
   ]
  },
  {
   "cell_type": "code",
   "execution_count": 10,
   "metadata": {},
   "outputs": [],
   "source": [
    "from sklearn.datasets import load_digits\n",
    "digits =load_digits()\n",
    "X_test=digits.data\n",
    "y_test=digits.target"
   ]
  },
  {
   "cell_type": "markdown",
   "metadata": {},
   "source": [
    "<p style=\"text-align: justify;\">\n",
    "#                Reconocimiento Óptico de Dígitos escrito a mano\n"
   ]
  },
  {
   "cell_type": "markdown",
   "metadata": {},
   "source": [
    "<p align=\"center\">\n",
    "## Andrea Vargas Gutiérrez 132192\n",
    "\n"
   ]
  },
  {
   "cell_type": "markdown",
   "metadata": {},
   "source": [
    "## Introducción. "
   ]
  },
  {
   "cell_type": "markdown",
   "metadata": {},
   "source": [
    "<p style=\"text-align: justify;\">\n",
    "En este projecto se utilizarán varias técnicas de Aprendizaje de Máquina para reconocer distintos dígitos escritos a mano. La base con la que se trabaja fue preprocesada por programas hechos por NIST para extraer mapas de bits normalizados de digitos escritos a mano. \n",
    "</p>\n",
    "  Para la formación de la base de datos, participaron 43 personas distintas, de las cuales 30 contribuyen al set de entrenamiento del modelo y 13 distintas al set de prueba. Esto de tal forma que no entrenemos el modelo con los mismos tipos de escritura de cierta persona. \n",
    "\n",
    "\n",
    "   ###### Datos\n",
    "<p style=\"text-align: justify;\">\n",
    "  Los datos se encontraban previamente divididos en Test y Train.\n",
    "    Fueron descargados de https://archive.ics.uci.edu/ml/machine-learning-databases/optdigits/\n",
    "    Se utilizó el archivo optdigits.tes para los datos de prueba y optdigits.tra para el set de entrenamiento.\n",
    "    (3823 en training set  y 1797 datos en test set)\n",
    "\n",
    "</p>\n",
    "   Para la representación gráfica de los números se utilizó el set de datos digits proporcionado por sklearn, el cual coincide con los datos descargados para el set de prueba.\n",
    "\n",
    "   ###### Forma en que se presentan los datos:\n",
    "\n",
    "   Los mapas de bits se normalizaron a un tamaño de 32x32. Estos se dividieron en bloques disjuntos de 4x4. Esto da como resultado una matriz de 8x8 donde cada elemento, contiene el número de pixeles activos para cada bloque, es decir un número entre el 0 y 16.\n",
    "\n",
    "Las representaciones gráficas de los números del 0 al 9 se ven de la siguiente manera.\n"
   ]
  },
  {
   "cell_type": "code",
   "execution_count": 11,
   "metadata": {},
   "outputs": [
    {
     "data": {
      "image/png": "[encoded data removed]",
      "text/plain": [
       "<matplotlib.figure.Figure at 0x20d58c3ac18>"
      ]
     },
     "metadata": {},
     "output_type": "display_data"
    }
   ],
   "source": [
    "images_and_labels=list(zip(digits.images,digits.target))\n",
    "plt.figure(figsize=(5,5))\n",
    "for index, (image,label) in enumerate (images_and_labels[:10]):\n",
    "        plt.subplot(3,5, index+1)\n",
    "        plt.axis(\"off\")\n",
    "        plt.imshow(image,cmap=plt.cm.gray_r, interpolation =\"nearest\")\n",
    "        plt.title('%i' % label)"
   ]
  },
  {
   "cell_type": "code",
   "execution_count": 12,
   "metadata": {},
   "outputs": [],
   "source": [
    "X_train=np.array(df_Train.drop('65', axis=1))\n",
    "y_train=np.array(df_Train['65'])\n",
    "\n"
   ]
  },
  {
   "cell_type": "markdown",
   "metadata": {},
   "source": [
    "## Metodología\n",
    "\n"
   ]
  },
  {
   "cell_type": "markdown",
   "metadata": {},
   "source": [
    "Los números escritos a mano pertenecientes a la misma clasificación pueden tener formas muy distintas entre sí. Para ver ésto más claro, se presentan gráficamente los primeros 10 números \"5\". "
   ]
  },
  {
   "cell_type": "code",
   "execution_count": 13,
   "metadata": {},
   "outputs": [
    {
     "data": {
      "image/png": "[encoded data removed]",
      "text/plain": [
       "<matplotlib.figure.Figure at 0x20d58d88a58>"
      ]
     },
     "metadata": {},
     "output_type": "display_data"
    }
   ],
   "source": [
    "cincos=y_test==5\n",
    "indicesCinco=cincos.nonzero()\n",
    "indicesCinco=indicesCinco[0]\n",
    "imagenesCinco=[]\n",
    "EtiquetasCinco=[]\n",
    "for i in indicesCinco[:10]:\n",
    "    imagenesCinco.append(digits.images[i])\n",
    "    EtiquetasCinco.append(digits.target[i])\n",
    "plt.figure(figsize=(8,8))\n",
    "for index, image in enumerate (imagenesCinco):\n",
    "        plt.subplot(4,5, index+1)\n",
    "        plt.axis(\"off\")\n",
    "        plt.imshow(image,cmap=plt.cm.gray_r, interpolation =\"nearest\")\n",
    "        plt.legend()"
   ]
  },
  {
   "cell_type": "markdown",
   "metadata": {},
   "source": [
    "<p style=\"text-align: justify;\">\n",
    "La metodología que usaremos, pretende reconocer las características generales para cada una de las etiquetas (números) de nuestros datos y así predecir a qué numero corresponde una nueva representación gráfica. Para hacer esto utilizaremos 3 modelos:  Bosques aleatorios, K vecinos cercanos y Maquinas de soporte vectorial.\n",
    "</p>"
   ]
  },
  {
   "cell_type": "markdown",
   "metadata": {},
   "source": [
    "#### Estimación de Hiperparámetros "
   ]
  },
  {
   "cell_type": "markdown",
   "metadata": {},
   "source": [
    "<p style=\"text-align: justify;\">\n",
    "Para determinar los hiperparámetros, se dividieron los datos en 5 bloques y se utilizó VALIDACION CRUZADA para determinar la precisión del modelo. Se optó por éste método de estimación porque realiza una prueba sobre datos \"no vistos\" y promedia sobre varias pruebas con los datos. Con esto se espera que los hiperparámetros elegidos sirvan para describir mejor los nuevos datos. \n",
    "\n",
    "<p style=\"text-align: justify;\">\n",
    "Para el modelo de Bosques aleatorios se establecio como hiperparámetro  el número de árboles en el bosque, probando con un rango de 40 a 90 arboles con saltos de tamaño 10. Se obtuvo que el parámetro que tiene una mayor presición media es con 60 arboles. Más adelante se presentarán las gráficas con las distintas exactitudes promedio que se utilizaron para la elección de los hiperparámetros óptimos.\n",
    "\n",
    "<p style=\"text-align: justify;\">\n",
    "Para el caso de Knn-neighbors el hiperparámetro del modelo fue el número de vecinos que se tomaría en cuenta para la clasificación de la nueva observación.  Se utilizó un rango de 1 a 15 vecinos y se obtuvo una precisión máxima en 1 vecino cercano. Después presenta otro pico en 3 vecinos cercanos y luego, como es de esperarse, tiene una tendencia descendente con más vecinos ya que el modelo se sobreajusta.\n",
    "\n",
    "<p style=\"text-align: justify;\">\n",
    "En el modelado de SVM se utilizó como hiperparámetro el tipo de Kernel del modelo. Se propusieron las siguientes opciones:\n",
    "'linear', 'rbf' , 'sigmoid' y 'Polinomial'. Para el tipo de Kernel Polinomial se probó ajustando distintos grados del polinomio (del 2 al 6). \n",
    "\n"
   ]
  },
  {
   "cell_type": "markdown",
   "metadata": {},
   "source": [
    "##### Graficas de hiperparámetros"
   ]
  },
  {
   "cell_type": "markdown",
   "metadata": {},
   "source": [
    "###### Random Forest "
   ]
  },
  {
   "cell_type": "code",
   "execution_count": 14,
   "metadata": {},
   "outputs": [
    {
     "data": {
      "image/png": "[encoded data removed]",
      "text/plain": [
       "<matplotlib.figure.Figure at 0x20d58de6358>"
      ]
     },
     "metadata": {},
     "output_type": "display_data"
    }
   ],
   "source": [
    "estimadores=[40,50,60,70,80,90]\n",
    "\n",
    "RFAccuracy = np.empty(len(estimadores))\n",
    "\n",
    "# Loop over different values of estimators\n",
    "for i, k in enumerate(estimadores):\n",
    "    # Setup a Random Forest Classifier with n estimators: randomforest\n",
    "    randomforest=RandomForestClassifier(n_estimators=k, max_leaf_nodes=10)\n",
    "    cvScore=cross_val_score(randomforest,X_train,y_train,cv=5)    \n",
    "    #Compute accuracy on the training set\n",
    "    RFAccuracy[i] = np.mean(cvScore)\n",
    "plt.title('Random Forest: Varying Number trees. Cross Validation')\n",
    "plt.plot(estimadores, RFAccuracy, label = 'Mean CV Accuracy')\n",
    "plt.legend()\n",
    "plt.xlabel('Number of trees')\n",
    "plt.ylabel('Accuracy')\n",
    "plt.show()"
   ]
  },
  {
   "cell_type": "markdown",
   "metadata": {},
   "source": [
    "###### Knn"
   ]
  },
  {
   "cell_type": "code",
   "execution_count": 15,
   "metadata": {},
   "outputs": [
    {
     "data": {
      "image/png": "[encoded data removed]",
      "text/plain": [
       "<matplotlib.figure.Figure at 0x20d5940deb8>"
      ]
     },
     "metadata": {},
     "output_type": "display_data"
    }
   ],
   "source": [
    "neighbors = np.arange(1, 15) #Probaremos la exactitud del modelo con 1 a 9 vecinos\n",
    "train_accuracy = np.empty(len(neighbors))\n",
    "KnnAccuracy = np.empty(len(neighbors))\n",
    "\n",
    "# Loop over different values of k\n",
    "for i, k in enumerate(neighbors):\n",
    "    # Setup a k-NN Classifier with k neighbors: knn\n",
    "    knn = KNeighborsClassifier(n_neighbors=k)\n",
    "\n",
    "    cvScore=cross_val_score(knn,X_train,y_train,cv=5)    \n",
    "    #Compute accuracy on the training set\n",
    "    KnnAccuracy[i] = np.mean(cvScore)\n",
    "\n",
    "plt.title('k-NN: Varying Number of Neighbors. Cross Validation')\n",
    "plt.plot(neighbors, KnnAccuracy, label = 'Mean CV Accuracy')\n",
    "plt.legend()\n",
    "plt.xlabel('Number of Neighbors')\n",
    "plt.ylabel('Accuracy')\n",
    "plt.show()"
   ]
  },
  {
   "cell_type": "markdown",
   "metadata": {},
   "source": [
    "###### SVM"
   ]
  },
  {
   "cell_type": "code",
   "execution_count": 16,
   "metadata": {},
   "outputs": [
    {
     "name": "stdout",
     "output_type": "stream",
     "text": [
      "linear mean accuracy with 5 folds: 0.978021822526\n",
      "rbf mean accuracy with 5 folds: 0.665490158453\n",
      "sigmoid mean accuracy with 5 folds: 0.10175281863\n",
      "Poly degree= 4 mean accuracy with 5 folds: 0.988486309644\n"
     ]
    }
   ],
   "source": [
    "Kernels = np.array([ 'linear', 'rbf', 'sigmoid']) #Probaremos la exactitud del modelo con las funciones Linear, rbf, sigmoid\n",
    "\n",
    "train_accuracy = np.empty(7)\n",
    "test_accuracy = np.empty(7)\n",
    "\n",
    "# Loop over different values of k\n",
    "for i, k in enumerate(Kernels):\n",
    "    svm= SVC(C=1,kernel=str(k))\n",
    "    cvScore=cross_val_score(svm,X_train,y_train,cv=5)\n",
    "    print(k +\" mean accuracy with 5 folds: \"+ str(np.mean(cvScore)))\n",
    "# Loop over different values of degree\n",
    "pol=[]\n",
    "Degree=np.array([2,3,4,5,6])\n",
    "for i, deg in enumerate(Degree):\n",
    "    svm= SVC(C=1,kernel='poly',degree=deg)\n",
    "    cvScore=cross_val_score(svm,X_train,y_train,cv=5)\n",
    "    prom=np.mean(cvScore)\n",
    "    pol.append(prom)\n",
    "    if i==2:\n",
    "        print(\"Poly degree= \"+ str(i+2) +\" mean accuracy with 5 folds: \"+ str(prom))\n"
   ]
  },
  {
   "cell_type": "code",
   "execution_count": 17,
   "metadata": {},
   "outputs": [
    {
     "data": {
      "image/png": "[encoded data removed]",
      "text/plain": [
       "<matplotlib.figure.Figure at 0x20d59426a90>"
      ]
     },
     "metadata": {},
     "output_type": "display_data"
    }
   ],
   "source": [
    "plt.title('SVM Varying Poly degrees')\n",
    "plt.plot(Degree,pol, label=\"Mean accuracy\")\n",
    "plt.legend()\n",
    "plt.xlabel('Degree')\n",
    "plt.ylabel('Accuracy')\n",
    "plt.show()"
   ]
  },
  {
   "cell_type": "markdown",
   "metadata": {},
   "source": [
    "Una vez seleccionados los hiperparámetros, se entrenan los distintos modelos con todos los datos de entrenamiento. Ahora es momento de probar qué tan buenos fueron nuestros modelos para predecir nuevas observaciones nunca antes vistas.\n"
   ]
  },
  {
   "cell_type": "markdown",
   "metadata": {},
   "source": [
    "## Resultados"
   ]
  },
  {
   "cell_type": "markdown",
   "metadata": {},
   "source": [
    "###### RANDOM FOREST"
   ]
  },
  {
   "cell_type": "markdown",
   "metadata": {},
   "source": [
    "El modelo de bosque aleatorio presentó una precisión de predicción del 88.7% lo cual representa un buen desempeño. Se presenta la matriz de confusión y un reporte de indicadores para ver el desempeño del modelo. Puede verse como los números 9 y 1 tuvieron mayor indice de error, confundiendose principalmente con el número 3 y 9 respectivamente"
   ]
  },
  {
   "cell_type": "code",
   "execution_count": 18,
   "metadata": {},
   "outputs": [
    {
     "name": "stdout",
     "output_type": "stream",
     "text": [
      "Random Forest accuracy: 0.889259877574\n",
      "\n",
      "[[176   0   0   0   2   0   0   0   0   0]\n",
      " [  0 139  15   3   1   1  10   2   0  11]\n",
      " [  1   2 164   4   0   0   2   3   0   1]\n",
      " [  1   2   3 164   0   3   0   5   2   3]\n",
      " [  0   1   0   0 166   0   2  12   0   0]\n",
      " [  4   0   0   0   1 156   2   1   2  16]\n",
      " [  2   1   0   0   1   0 176   0   1   0]\n",
      " [  0   0   0   0   6   1   0 166   1   5]\n",
      " [  2   8   8   3   3   1   0   6 141   2]\n",
      " [  1   1   0  16   1   1   0   9   1 150]]\n",
      "             precision    recall  f1-score   support\n",
      "\n",
      "          0       0.94      0.99      0.96       178\n",
      "          1       0.90      0.76      0.83       182\n",
      "          2       0.86      0.93      0.89       177\n",
      "          3       0.86      0.90      0.88       183\n",
      "          4       0.92      0.92      0.92       181\n",
      "          5       0.96      0.86      0.90       182\n",
      "          6       0.92      0.97      0.94       181\n",
      "          7       0.81      0.93      0.87       179\n",
      "          8       0.95      0.81      0.88       174\n",
      "          9       0.80      0.83      0.82       180\n",
      "\n",
      "avg / total       0.89      0.89      0.89      1797\n",
      "\n"
     ]
    }
   ],
   "source": [
    "########################### Random Forest #######################\n",
    "RFC=RandomForestClassifier(n_estimators=60, max_leaf_nodes=10)\n",
    "RFC.fit(X_train,y_train)\n",
    "RFAccuracy=RFC.score(X_test,y_test)\n",
    "print(\"Random Forest accuracy: \"+str(RFAccuracy))\n",
    "print()\n",
    "\n",
    "print(confusion_matrix(y_test,RFC.predict(X_test)))\n",
    "print(classification_report(y_test,RFC.predict(X_test)))"
   ]
  },
  {
   "cell_type": "markdown",
   "metadata": {},
   "source": [
    "De las 199 predicciones incorrectas, se presentan las representaciones gráficas de las primeras 20 para juzgar personalmente qué tan legible era realmente el número presentado.  Con estas representaciones podemos ver como por ejemplo, los 9 y los 5 realmente parecen tener una relación gráfica muy similar."
   ]
  },
  {
   "cell_type": "code",
   "execution_count": 20,
   "metadata": {},
   "outputs": [
    {
     "name": "stdout",
     "output_type": "stream",
     "text": [
      "199 predicciones incorrectas\n",
      "Primeras 20 predicciones incorrectas\n"
     ]
    },
    {
     "data": {
      "image/png": "[encoded data removed]",
      "text/plain": [
       "<matplotlib.figure.Figure at 0x20d591db1d0>"
      ]
     },
     "metadata": {},
     "output_type": "display_data"
    }
   ],
   "source": [
    "#################### RANDOM FOREST #####################\n",
    "\n",
    "diferentesrf=RFC.predict(X_test)!=y_test\n",
    "indicesmalrf=diferentesrf.nonzero()\n",
    "indicesmalrf=indicesmalrf[0].tolist()\n",
    "imagenesmalrf=digits.images[[indicesmalrf]]\n",
    "datosmalrf=X_test[[indicesmalrf],:]\n",
    "etiquetasmalrf=digits.target[[indicesmalrf]]\n",
    "prediccionesmalrf=RFC.predict(datosmalrf[0])\n",
    "RF_mal=len(indicesmalrf)\n",
    "print(str(RF_mal)+\" predicciones incorrectas\")\n",
    "print(\"Primeras 20 predicciones incorrectas\")\n",
    "#print(\"etiqueta real: \"+ str(etiquetasmalrf[:25]))\n",
    "#print(\"prediccion:    \"+ str(prediccionesmalrf[:25]))\n",
    "\n",
    "\n",
    "plt.figure(figsize=(8,8))\n",
    "images_and_labelsrf=list(zip(imagenesmalrf,etiquetasmalrf))\n",
    "for index, (image,label) in enumerate (images_and_labelsrf[:20]):\n",
    "        plt.subplot(4,5, index+1)\n",
    "        plt.axis(\"off\")\n",
    "        plt.imshow(image,cmap=plt.cm.gray_r, interpolation =\"nearest\")\n",
    "        plt.title(\"pred:\" '%i' %  prediccionesmalrf[index]+\" real: \" +str( etiquetasmalrf[index]))\n",
    "        plt.legend()"
   ]
  },
  {
   "cell_type": "markdown",
   "metadata": {},
   "source": [
    "###### Knn"
   ]
  },
  {
   "cell_type": "markdown",
   "metadata": {},
   "source": [
    "Usando el método de K vecinos cercanos podemos ver cómo se incrementa la precisión del modelo en comparación del bosque aleatorio. Para este modelo la precisión es de 97% presentando únicamente36 diagnosticos incorrectos de 1797 nuevas observaciones. El número más confundido con éste modelo es nuevamente el 9 y el 8"
   ]
  },
  {
   "cell_type": "code",
   "execution_count": 21,
   "metadata": {
    "scrolled": true
   },
   "outputs": [
    {
     "name": "stdout",
     "output_type": "stream",
     "text": [
      "Knn accuracy: 0.979966611018\n",
      "[[178   0   0   0   0   0   0   0   0   0]\n",
      " [  0 181   0   0   0   0   0   0   1   0]\n",
      " [  0   2 175   0   0   0   0   0   0   0]\n",
      " [  0   0   0 179   0   0   0   2   0   2]\n",
      " [  0   2   0   0 178   0   0   0   1   0]\n",
      " [  0   0   0   0   1 179   0   0   0   2]\n",
      " [  0   0   0   0   0   0 181   0   0   0]\n",
      " [  0   0   0   0   0   0   0 177   0   2]\n",
      " [  0   8   0   1   0   0   0   0 164   1]\n",
      " [  0   0   0   3   3   2   0   0   3 169]]\n",
      "             precision    recall  f1-score   support\n",
      "\n",
      "          0       1.00      1.00      1.00       178\n",
      "          1       0.94      0.99      0.97       182\n",
      "          2       1.00      0.99      0.99       177\n",
      "          3       0.98      0.98      0.98       183\n",
      "          4       0.98      0.98      0.98       181\n",
      "          5       0.99      0.98      0.99       182\n",
      "          6       1.00      1.00      1.00       181\n",
      "          7       0.99      0.99      0.99       179\n",
      "          8       0.97      0.94      0.96       174\n",
      "          9       0.96      0.94      0.95       180\n",
      "\n",
      "avg / total       0.98      0.98      0.98      1797\n",
      "\n"
     ]
    }
   ],
   "source": [
    "################################### KNN #############3\n",
    "knn = KNeighborsClassifier(n_neighbors=1)\n",
    "knn.fit(X_train,y_train)    \n",
    "knn_accuracy = knn.score(X_test, y_test)\n",
    "print(\"Knn accuracy: \"+str(knn_accuracy))\n",
    "\n",
    "print(confusion_matrix(y_test,knn.predict(X_test)))\n",
    "\n",
    "print(classification_report(y_test,knn.predict(X_test)))"
   ]
  },
  {
   "cell_type": "code",
   "execution_count": 24,
   "metadata": {},
   "outputs": [
    {
     "name": "stdout",
     "output_type": "stream",
     "text": [
      "36 predicciones incorrectas\n",
      "A continuación se presentan los primeros 20 errores del modelo\n"
     ]
    },
    {
     "data": {
      "image/png": "[encoded data removed]",
      "text/plain": [
       "<matplotlib.figure.Figure at 0x20d58e54278>"
      ]
     },
     "metadata": {},
     "output_type": "display_data"
    }
   ],
   "source": [
    "diferentes=knn.predict(X_test)!=y_test\n",
    "indicesmal=diferentes.nonzero()\n",
    "indicesmal=indicesmal[0].tolist()\n",
    "Knn_mal=len(indicesmal)\n",
    "print(str(Knn_mal)+\" predicciones incorrectas\")\n",
    "print(\"A continuación se presentan los primeros 20 errores del modelo\")\n",
    "\n",
    "predicciones=knn.predict(digits.images.reshape(X_test.shape))\n",
    "imagenesmal=[]\n",
    "etiquetasmal=[]\n",
    "prediccionesmal=[]\n",
    "for i in indicesmal:\n",
    "    imagenesmal.append(digits.images[i])\n",
    "    etiquetasmal.append(digits.target[i])\n",
    "    prediccionesmal.append(predicciones[i])\n",
    "    \n",
    "plt.figure(figsize=(8,8))\n",
    "images_and_labels=list(zip(imagenesmal,etiquetasmal))\n",
    "for index, (image,label) in enumerate (images_and_labels[:20]):\n",
    "        plt.subplot(4,5, index+1)\n",
    "        plt.axis(\"off\")\n",
    "        plt.imshow(image,cmap=plt.cm.gray_r, interpolation =\"nearest\")\n",
    "        plt.title(\"pred:\" '%i' %  prediccionesmal[index]+\" real: \" +str( etiquetasmal[index]))\n",
    "        plt.legend()\n",
    "        \n"
   ]
  },
  {
   "cell_type": "markdown",
   "metadata": {},
   "source": [
    "###### SVM"
   ]
  },
  {
   "cell_type": "markdown",
   "metadata": {},
   "source": [
    "Ahora entrenaremos el modelo utilizando el metodo SVM. Para esto se eligió un Kernel polinomial de grado 4. "
   ]
  },
  {
   "cell_type": "markdown",
   "metadata": {},
   "source": [
    "La precisión de este modelo es poco menor a la de k vecinos sin embargo sigue siendo muy alta 97% . Para este set de datos se clasificaron mal 44 números. Siendo los más confundido el 7,8 y nuevamente el 9"
   ]
  },
  {
   "cell_type": "code",
   "execution_count": 25,
   "metadata": {},
   "outputs": [
    {
     "name": "stdout",
     "output_type": "stream",
     "text": [
      "test accuracy: 0.9755147468\n"
     ]
    },
    {
     "data": {
      "text/plain": [
       "array([[178,   0,   0,   0,   0,   0,   0,   0,   0,   0],\n",
       "       [  0, 180,   0,   0,   0,   0,   1,   0,   1,   0],\n",
       "       [  0,   1, 176,   0,   0,   0,   0,   0,   0,   0],\n",
       "       [  0,   0,   1, 176,   0,   1,   0,   1,   2,   2],\n",
       "       [  0,   0,   0,   0, 179,   0,   0,   0,   1,   1],\n",
       "       [  1,   0,   0,   0,   0, 180,   0,   0,   0,   1],\n",
       "       [  0,   0,   0,   0,   0,   0, 181,   0,   0,   0],\n",
       "       [  0,   0,   0,   0,   0,   4,   0, 169,   0,   6],\n",
       "       [  0,   6,   0,   1,   0,   1,   0,   0, 162,   4],\n",
       "       [  0,   0,   0,   4,   0,   3,   0,   0,   1, 172]], dtype=int64)"
      ]
     },
     "execution_count": 25,
     "metadata": {},
     "output_type": "execute_result"
    }
   ],
   "source": [
    "svm= SVC(C=1,kernel='poly',degree=4)\n",
    "svm.fit(X_train,y_train)\n",
    "print(\"test accuracy: \" +str(svm.score(X_test,y_test))  )  \n",
    "confusion_matrix(y_test,svm.predict(X_test))\n",
    "    "
   ]
  },
  {
   "cell_type": "markdown",
   "metadata": {},
   "source": []
  },
  {
   "cell_type": "code",
   "execution_count": 26,
   "metadata": {
    "scrolled": true
   },
   "outputs": [
    {
     "name": "stdout",
     "output_type": "stream",
     "text": [
      "             precision    recall  f1-score   support\n",
      "\n",
      "          0       0.99      1.00      1.00       178\n",
      "          1       0.96      0.99      0.98       182\n",
      "          2       0.99      0.99      0.99       177\n",
      "          3       0.97      0.96      0.97       183\n",
      "          4       1.00      0.99      0.99       181\n",
      "          5       0.95      0.99      0.97       182\n",
      "          6       0.99      1.00      1.00       181\n",
      "          7       0.99      0.94      0.97       179\n",
      "          8       0.97      0.93      0.95       174\n",
      "          9       0.92      0.96      0.94       180\n",
      "\n",
      "avg / total       0.98      0.98      0.98      1797\n",
      "\n"
     ]
    }
   ],
   "source": [
    "print(classification_report(y_test,svm.predict(X_test)))"
   ]
  },
  {
   "cell_type": "code",
   "execution_count": 28,
   "metadata": {},
   "outputs": [],
   "source": [
    "diferentes=svm.predict(X_test)!=y_test\n",
    "indicesmal=diferentes.nonzero()\n",
    "indicesmal=indicesmal[0].tolist()\n",
    "imagenesmal=digits.images[[indicesmal]]\n",
    "datosmal=X_test[[indicesmal],:]\n",
    "etiquetasmal=digits.target[[indicesmal]]\n",
    "prediccionesmal=svm.predict(datosmal[0])\n",
    "#print(\"etiqueta real: \"+ str(etiquetasmal))\n",
    "#print(\"prediccion:    \"+ str(prediccionesmal))"
   ]
  },
  {
   "cell_type": "code",
   "execution_count": 29,
   "metadata": {},
   "outputs": [],
   "source": [
    "svm_mal=len(indicesmal)"
   ]
  },
  {
   "cell_type": "code",
   "execution_count": 32,
   "metadata": {},
   "outputs": [
    {
     "name": "stdout",
     "output_type": "stream",
     "text": [
      "44 predicciones mal\n",
      "Primeras 20 predicciones incorrectas\n"
     ]
    }
   ],
   "source": [
    "print(str(svm_mal)+\" predicciones mal\")\n",
    "print(\"Primeras 20 predicciones incorrectas\")"
   ]
  },
  {
   "cell_type": "code",
   "execution_count": 31,
   "metadata": {},
   "outputs": [
    {
     "data": {
      "image/png": "[encoded data removed]",
      "text/plain": [
       "<matplotlib.figure.Figure at 0x20d58d6c128>"
      ]
     },
     "metadata": {},
     "output_type": "display_data"
    }
   ],
   "source": [
    "plt.figure(figsize=(8,8))\n",
    "images_and_labels=list(zip(imagenesmal,etiquetasmal))\n",
    "for index, (image,label) in enumerate (images_and_labels[15:35]):\n",
    "        plt.subplot(4,5, index+1)\n",
    "        plt.axis(\"off\")\n",
    "        plt.imshow(image,cmap=plt.cm.gray_r, interpolation =\"nearest\")\n",
    "        plt.title(\"Pred:\" '%i' %  prediccionesmal[index+15]+\" Real: \" +str( etiquetasmal[index+15]))\n",
    "        plt.legend()"
   ]
  },
  {
   "cell_type": "code",
   "execution_count": null,
   "metadata": {},
   "outputs": [],
   "source": []
  },
  {
   "cell_type": "markdown",
   "metadata": {},
   "source": [
    "Dado lo observado en los 3 modelos, se decidió hacer una muestra de números 9 para poder ver por qué presentan tanto error en la clasificación"
   ]
  },
  {
   "cell_type": "code",
   "execution_count": 33,
   "metadata": {},
   "outputs": [
    {
     "data": {
      "image/png": "[encoded data removed]",
      "text/plain": [
       "<matplotlib.figure.Figure at 0x20d59447a58>"
      ]
     },
     "metadata": {},
     "output_type": "display_data"
    }
   ],
   "source": [
    "cincos=y_test==9\n",
    "indicesCinco=cincos.nonzero()\n",
    "indicesCinco=indicesCinco[0]\n",
    "imagenesCinco=[]\n",
    "EtiquetasCinco=[]\n",
    "for i in indicesCinco[25:45]:\n",
    "    imagenesCinco.append(digits.images[i])\n",
    "    EtiquetasCinco.append(digits.target[i])\n",
    "plt.figure(figsize=(8,8))\n",
    "for index, image in enumerate (imagenesCinco):\n",
    "        plt.subplot(4,5, index+1)\n",
    "        plt.axis(\"off\")\n",
    "        plt.imshow(image,cmap=plt.cm.gray_r, interpolation =\"nearest\")\n",
    "        plt.title(\"index: \" '%i' %  index)\n",
    "        plt.legend()"
   ]
  },
  {
   "cell_type": "markdown",
   "metadata": {},
   "source": [
    "Después de ver las distintas representaciones del número 9 podemos entender por qué resulta el número más confundido. Por ejemplo, en el 6to número podría confundirse con un 4 o el ejemplo 17 o 14 podrían ser un 8. "
   ]
  },
  {
   "cell_type": "markdown",
   "metadata": {},
   "source": [
    "## Conclusion"
   ]
  },
  {
   "cell_type": "markdown",
   "metadata": {},
   "source": [
    "Los modelos presentados tuvieron una alta tasa de predicciones correctas. Esto es debido a que los elementos que se modelan son bastante uniformes y estandarizados. Es decir, no tienen mucho ruido y no se presentan sobre ajustes ni bajo ajustes por la selección de las variables en los modelos. Esto también debido a que no hay variables (columnas) linealmente dependientes de otras. \n",
    "\n",
    "Si bien es un ejercicio simple en cuanto a elección de variables para tomar en cuenta en el modelo, tiene detrás un gran trabajo en la estandarización de los datos y modelado de las representaciones gráficas como arreglos para poder ser utilizados en los modelos predictivos.\n",
    "\n",
    "La elección de los hiperparámetros también juega un papel importante para uno correcto entrenamiento del modelo. Esto se puede ver principalmente en el método de SVM en el que se puede llegar a tener un 97.5% de precisión o un 60% o 10% si se elige un mal Kernel"
   ]
  },
  {
   "cell_type": "markdown",
   "metadata": {},
   "source": [
    "## Referencias"
   ]
  },
  {
   "cell_type": "markdown",
   "metadata": {},
   "source": [
    "- Presentaciones del profesor Fernando Esponda para el curso Aprendizaje de Máquina, Otoño 2017 , ITAM\n",
    "- https://archive.ics.uci.edu/ml/machine-learning-databases/optdigits/"
   ]
  },
  {
   "cell_type": "code",
   "execution_count": null,
   "metadata": {},
   "outputs": [],
   "source": []
  }
 ],
 "metadata": {
  "kernelspec": {
   "display_name": "Python 3",
   "language": "python",
   "name": "python3"
  },
  "language_info": {
   "codemirror_mode": {
    "name": "ipython",
    "version": 3
   },
   "file_extension": ".py",
   "mimetype": "text/x-python",
   "name": "python",
   "nbconvert_exporter": "python",
   "pygments_lexer": "ipython3",
   "version": "3.6.3"
  }
 },
 "nbformat": 4,
 "nbformat_minor": 2
}
